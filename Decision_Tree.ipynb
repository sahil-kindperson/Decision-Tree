{
  "nbformat": 4,
  "nbformat_minor": 0,
  "metadata": {
    "colab": {
      "provenance": []
    },
    "kernelspec": {
      "name": "python3",
      "display_name": "Python 3"
    },
    "language_info": {
      "name": "python"
    }
  },
  "cells": [
    {
      "cell_type": "code",
      "execution_count": null,
      "metadata": {
        "id": "-L_okq8rZX-J"
      },
      "outputs": [],
      "source": [
        "##THEOROTICAL QUESTIONS"
      ]
    },
    {
      "cell_type": "code",
      "source": [
        "#1. What is a Decision Tree, and how does it work?"
      ],
      "metadata": {
        "id": "PNQrWMHyZhf4"
      },
      "execution_count": null,
      "outputs": []
    },
    {
      "cell_type": "markdown",
      "source": [
        "A Decision Tree is a popular supervised machine learning algorithm used for both classification and regression tasks. It mimics human decision-making by using a tree-like model of decisions and their possible consequences."
      ],
      "metadata": {
        "id": "M52-JvBMZyHf"
      }
    },
    {
      "cell_type": "code",
      "source": [
        "#2. What are impurity measures in Decision Trees?"
      ],
      "metadata": {
        "id": "9aKdwQV1Zyjd"
      },
      "execution_count": null,
      "outputs": []
    },
    {
      "cell_type": "markdown",
      "source": [
        "Impurity measures are metrics used in Decision Trees to determine how well a feature splits the data. They quantify the \"purity\" or \"mixedness\" of a dataset — how homogenous or heterogeneous the labels are within a node."
      ],
      "metadata": {
        "id": "vKt251OKa3zK"
      }
    },
    {
      "cell_type": "code",
      "source": [
        "#3. What is the mathematical formula for Gini Impurity?"
      ],
      "metadata": {
        "id": "iQJdJC5Sa4Vf"
      },
      "execution_count": null,
      "outputs": []
    },
    {
      "cell_type": "markdown",
      "source": [
        "               c\n",
        "Gini (t) = 1 -∑Pi2  \n",
        "              i=1\n",
        "\n",
        "Where:\n",
        "𝑡\n",
        "t is the current node.\n",
        "\n",
        "𝐶\n",
        "C is the number of classes.\n",
        "\n",
        "𝑝\n",
        "𝑖\n",
        "p\n",
        "i\n",
        "​\n",
        "  is the proportion (probability) of samples belonging to class\n",
        "𝑖\n",
        "i at node\n",
        "𝑡\n",
        "t.\n",
        "\n"
      ],
      "metadata": {
        "id": "bpikvFOBa9KD"
      }
    },
    {
      "cell_type": "code",
      "source": [
        "#4. What is the mathematical formula for Entropy?"
      ],
      "metadata": {
        "id": "FdWwRo4GccoN"
      },
      "execution_count": null,
      "outputs": []
    },
    {
      "cell_type": "markdown",
      "source": [
        "The mathematical formula for Entropy in the context of Decision Trees is:\n",
        "\n",
        "\n",
        "\n",
        "**Entropy(t)=−\n",
        "i=1\n",
        "∑\n",
        "C\n",
        "​\n",
        " p\n",
        "i\n",
        "​\n",
        " log\n",
        "2\n",
        "​\n",
        " (p\n",
        "i\n",
        "​\n",
        " )**\n",
        "\n",
        "\n",
        " Where:\n",
        "* t is the current node.\n",
        "\n",
        "* C is the number of classes.\n",
        "\n",
        "* 𝑝\n",
        "𝑖\n",
        "p\n",
        "i\n",
        "​\n",
        "  is the proportion of samples belonging to class\n",
        "𝑖\n",
        "i at node t.\n",
        "\n",
        "* log\n",
        "⁡\n",
        "2\n",
        "log\n",
        "2\n",
        "​\n",
        "  is the base-2 logarithm.\n",
        "\n",
        "Entropy measures the amount of disorder or uncertainty in a node."
      ],
      "metadata": {
        "id": "TmiRU5CScgfD"
      }
    },
    {
      "cell_type": "code",
      "source": [
        "#5. What is Information Gain, and how is it used in Decision Trees?"
      ],
      "metadata": {
        "id": "9VCd6ut5c5Y-"
      },
      "execution_count": null,
      "outputs": []
    },
    {
      "cell_type": "markdown",
      "source": [
        "Information Gain is a key concept used in building Decision Trees, particularly when using Entropy as the impurity measure. It quantifies how much uncertainty (entropy) is reduced after a dataset is split on a particular feature.\n",
        "\n",
        "\n",
        "How Is It Used in Decision Trees?\n",
        "1. For each feature, the Decision Tree algorithm:\n",
        "\n",
        "* Splits the dataset based on possible values of that feature.\n",
        "\n",
        "* Calculates the Information Gain for that split.\n",
        "\n",
        "2. Selects the feature with the highest Information Gain to split the current node.\n",
        "\n",
        "3. Repeats recursively for each child node until stopping criteria are met (e.g., node is pure, max depth, etc.)."
      ],
      "metadata": {
        "id": "zJKIrfAbedn5"
      }
    },
    {
      "cell_type": "code",
      "source": [
        "#6. What is the difference between Gini Impurity and Entropy?"
      ],
      "metadata": {
        "id": "-_iN2rjuenja"
      },
      "execution_count": null,
      "outputs": []
    },
    {
      "cell_type": "markdown",
      "source": [
        "* Gini Impurity\n",
        "Measures how often a randomly chosen element would be incorrectly classified\n",
        "\n",
        "* Entropy Measures average information (bits) needed to classify an instance\n",
        "\n",
        "\n"
      ],
      "metadata": {
        "id": "jOk33fS3fnDl"
      }
    },
    {
      "cell_type": "code",
      "source": [
        "#7. What is the mathematical explanation behind Decision Trees?"
      ],
      "metadata": {
        "id": "jrcl8X79f_ez"
      },
      "execution_count": null,
      "outputs": []
    },
    {
      "cell_type": "markdown",
      "source": [
        "A Decision Tree is a flowchart-like structure used in supervised machine learning. It works by recursively splitting the dataset into subsets based on feature values, aiming to minimize impurity (or maximize information gain) at each step."
      ],
      "metadata": {
        "id": "KWBDfTKhgeTV"
      }
    },
    {
      "cell_type": "code",
      "source": [
        "#8. What is Pre-Pruning in Decision Trees?"
      ],
      "metadata": {
        "id": "GziSDnFige0k"
      },
      "execution_count": null,
      "outputs": []
    },
    {
      "cell_type": "markdown",
      "source": [
        "Pre-pruning in decision trees is a technique used to prevent overfitting by stopping the tree from growing too deep or too complex during the training process."
      ],
      "metadata": {
        "id": "cm0Hn0-yLuZm"
      }
    },
    {
      "cell_type": "code",
      "source": [
        "#9. What is Post-Pruning in Decision Trees?"
      ],
      "metadata": {
        "id": "91teonApL6kz"
      },
      "execution_count": null,
      "outputs": []
    },
    {
      "cell_type": "markdown",
      "source": [
        "Post-pruning (also called cost-complexity pruning or error-based pruning) is a technique used in decision trees to reduce overfitting after the tree has been fully grown.\n",
        "\n"
      ],
      "metadata": {
        "id": "TrJxPcDzMUDV"
      }
    },
    {
      "cell_type": "code",
      "source": [
        "#10. What is the difference between Pre-Pruning and Post-Pruning?"
      ],
      "metadata": {
        "id": "7M_Fs2kIMU3f"
      },
      "execution_count": null,
      "outputs": []
    },
    {
      "cell_type": "markdown",
      "source": [
        "* Pre-pruning: Proactive, faster, but risks underfitting.\n",
        "\n",
        "* Post-pruning: Reactive, often more effective, but risks higher training time."
      ],
      "metadata": {
        "id": "BbnhUzAyMaFN"
      }
    },
    {
      "cell_type": "code",
      "source": [
        "#11. What is a Decision Tree Regressor?"
      ],
      "metadata": {
        "id": "c64g2E-ZMzZ8"
      },
      "execution_count": null,
      "outputs": []
    },
    {
      "cell_type": "markdown",
      "source": [
        "A Decision Tree Regressor is a type of machine learning model used for predicting continuous numerical values, as opposed to classification tasks which predict discrete labels."
      ],
      "metadata": {
        "id": "rAjMT4VIM3ys"
      }
    },
    {
      "cell_type": "code",
      "source": [
        "#12. What are the advantages and disadvantages of Decision Trees?"
      ],
      "metadata": {
        "id": "vLVU4-o1M9af"
      },
      "execution_count": null,
      "outputs": []
    },
    {
      "cell_type": "markdown",
      "source": [
        "* Advantages of Decision Trees:\n",
        "1. Easy to Understand and Interpret\n",
        "2. No Need for Feature Scaling\n",
        "3. Handles Both Types of Data\n",
        "4. Little Data Preparation Required\n",
        "\n",
        "* Disadvantages of Decision Trees:\n",
        "1. Overfitting\n",
        "2. Unstable\n",
        "3. Greedy Splitting\n",
        "4. Biased with Imbalanced Data"
      ],
      "metadata": {
        "id": "vWhNibgYNAv0"
      }
    },
    {
      "cell_type": "code",
      "source": [
        "#13. How does a Decision Tree handle missing values?"
      ],
      "metadata": {
        "id": "3grQ74sFN1xr"
      },
      "execution_count": null,
      "outputs": []
    },
    {
      "cell_type": "markdown",
      "source": [
        "Decision trees can handle missing values in a few different ways—depending on the implementation and the library used. Here's how they typically handle missing data:\n",
        "\n",
        "1. Skip or Ignore Missing Values\n",
        "2. Surrogate Splits\n",
        "3. Assign Missing to the Most Common Branch\n",
        "4. Imputation Before Tree Training\n",
        "5. Specialized Tree Algorithms for Missing Data"
      ],
      "metadata": {
        "id": "-6wTacvXN6BI"
      }
    },
    {
      "cell_type": "code",
      "source": [
        "#14. How does a Decision Tree handle categorical features?"
      ],
      "metadata": {
        "id": "YYkoUCJePHSe"
      },
      "execution_count": null,
      "outputs": []
    },
    {
      "cell_type": "markdown",
      "source": [
        "A Decision Tree can handle categorical features by splitting nodes based on category values, but how it's done depends on the algorithm and library implementation.\n",
        "\n",
        "Common Methods to Handle Categorical Features:\n",
        "1. One-Hot Encoding.\n",
        "2. Label Encoding.\n",
        "3. Native Support for Categorical Features.\n"
      ],
      "metadata": {
        "id": "iN66ec3WPM5i"
      }
    },
    {
      "cell_type": "code",
      "source": [
        "#15. What are some real-world applications of Decision Trees?"
      ],
      "metadata": {
        "id": "Z_vf__GKP_Ug"
      },
      "execution_count": null,
      "outputs": []
    },
    {
      "cell_type": "markdown",
      "source": [
        "Decision Trees are widely used in many real-world applications because of their simplicity, interpretability, and ability to handle both classification and regression tasks. Below are some real-world applications across different domains:\n",
        "\n",
        "1. Business & Marketing\n",
        "2. Healthcare\n",
        "3. Finance & Banking\n",
        "4. Education\n",
        "6. Web & Technology"
      ],
      "metadata": {
        "id": "W3SBAMSMQDrb"
      }
    },
    {
      "cell_type": "code",
      "source": [
        "## practical questions"
      ],
      "metadata": {
        "id": "1dnebRpPQZge"
      },
      "execution_count": 1,
      "outputs": []
    },
    {
      "cell_type": "code",
      "source": [
        "#1. Write a Python program to train a Decision Tree Classifier on the Iris dataset and print the model accuracy.\n",
        "\n",
        "from sklearn.datasets import load_iris\n",
        "from sklearn.model_selection import train_test_split\n",
        "from sklearn.tree import DecisionTreeClassifier\n",
        "from sklearn.metrics import accuracy_score\n",
        "\n",
        "iris = load_iris()\n",
        "X = iris.data\n",
        "y = iris.target\n",
        "\n",
        "X_train, X_test, y_train, y_test = train_test_split(X, y, test_size=0.2, random_state=42)\n",
        "\n",
        "clf = DecisionTreeClassifier(random_state=42)\n",
        "\n",
        "clf.fit(X_train, y_train)\n",
        "\n",
        "y_pred = clf.predict(X_test)\n",
        "\n",
        "accuracy = accuracy_score(y_test, y_pred)\n",
        "print(f\"Model Accuracy: {accuracy:.2f}\")\n"
      ],
      "metadata": {
        "colab": {
          "base_uri": "https://localhost:8080/"
        },
        "id": "iasDQrhoQ7ks",
        "outputId": "82772069-13e3-4482-89be-86431d556290"
      },
      "execution_count": 3,
      "outputs": [
        {
          "output_type": "stream",
          "name": "stdout",
          "text": [
            "Model Accuracy: 1.00\n"
          ]
        }
      ]
    },
    {
      "cell_type": "code",
      "source": [
        "#2. Write a Python program to train a Decision Tree Classifier using Gini Impurity as the criterion and print the feature importances\n",
        "\n",
        "\n",
        "# Import necessary libraries\n",
        "from sklearn.datasets import load_iris\n",
        "from sklearn.model_selection import train_test_split\n",
        "from sklearn.tree import DecisionTreeClassifier\n",
        "\n",
        "# Load the Iris dataset\n",
        "iris = load_iris()\n",
        "X = iris.data\n",
        "y = iris.target\n",
        "feature_names = iris.feature_names\n",
        "\n",
        "# Split the dataset into training and test sets\n",
        "X_train, X_test, y_train, y_test = train_test_split(X, y, test_size=0.2, random_state=42)\n",
        "\n",
        "# Initialize the Decision Tree Classifier using Gini Impurity\n",
        "clf = DecisionTreeClassifier(criterion='gini', random_state=42)\n",
        "\n",
        "# Train the model\n",
        "clf.fit(X_train, y_train)\n",
        "\n",
        "# Print the feature importances\n",
        "importances = clf.feature_importances_\n",
        "\n",
        "print(\"Feature Importances:\")\n",
        "for name, importance in zip(feature_names, importances):\n",
        "    print(f\"{name}: {importance:.4f}\")\n"
      ],
      "metadata": {
        "colab": {
          "base_uri": "https://localhost:8080/"
        },
        "id": "rXippuBP7v40",
        "outputId": "9c004b72-e520-4a24-b10c-03f31f9de1bf"
      },
      "execution_count": 4,
      "outputs": [
        {
          "output_type": "stream",
          "name": "stdout",
          "text": [
            "Feature Importances:\n",
            "sepal length (cm): 0.0000\n",
            "sepal width (cm): 0.0167\n",
            "petal length (cm): 0.9061\n",
            "petal width (cm): 0.0772\n"
          ]
        }
      ]
    },
    {
      "cell_type": "code",
      "source": [
        "#3. Write a Python program to train a Decision Tree Classifier using Entropy as the splitting criterion and print the model accuracy\n",
        "\n",
        "\n",
        "# Import necessary libraries\n",
        "from sklearn.datasets import load_iris\n",
        "from sklearn.model_selection import train_test_split\n",
        "from sklearn.tree import DecisionTreeClassifier\n",
        "from sklearn.metrics import accuracy_score\n",
        "\n",
        "# Load the Iris dataset\n",
        "iris = load_iris()\n",
        "X = iris.data\n",
        "y = iris.target\n",
        "\n",
        "# Split the dataset into training and test sets\n",
        "X_train, X_test, y_train, y_test = train_test_split(X, y, test_size=0.2, random_state=42)\n",
        "\n",
        "# Initialize the Decision Tree Classifier using Entropy\n",
        "clf = DecisionTreeClassifier(criterion='entropy', random_state=42)\n",
        "\n",
        "# Train the model\n",
        "clf.fit(X_train, y_train)\n",
        "\n",
        "# Predict on the test set\n",
        "y_pred = clf.predict(X_test)\n",
        "\n",
        "# Calculate and print the accuracy\n",
        "accuracy = accuracy_score(y_test, y_pred)\n",
        "print(f\"Model Accuracy (Entropy): {accuracy:.2f}\")\n"
      ],
      "metadata": {
        "colab": {
          "base_uri": "https://localhost:8080/"
        },
        "id": "ogiR8KAS8LZA",
        "outputId": "41c54cf2-da82-4a77-882b-9858f453c6b3"
      },
      "execution_count": 5,
      "outputs": [
        {
          "output_type": "stream",
          "name": "stdout",
          "text": [
            "Model Accuracy (Entropy): 1.00\n"
          ]
        }
      ]
    },
    {
      "cell_type": "code",
      "source": [
        "#4. Write a Python program to train a Decision Tree Regressor on a housing dataset and evaluate using Mean Squared Error (MSE).\n",
        "\n",
        "\n",
        "# Import necessary libraries\n",
        "from sklearn.datasets import fetch_california_housing\n",
        "from sklearn.model_selection import train_test_split\n",
        "from sklearn.tree import DecisionTreeRegressor\n",
        "from sklearn.metrics import mean_squared_error\n",
        "\n",
        "# Load the California Housing dataset\n",
        "housing = fetch_california_housing()\n",
        "X = housing.data\n",
        "y = housing.target\n",
        "\n",
        "# Split the dataset into training and test sets\n",
        "X_train, X_test, y_train, y_test = train_test_split(X, y, test_size=0.2, random_state=42)\n",
        "\n",
        "# Initialize the Decision Tree Regressor\n",
        "regressor = DecisionTreeRegressor(random_state=42)\n",
        "\n",
        "# Train the model\n",
        "regressor.fit(X_train, y_train)\n",
        "\n",
        "# Predict on the test set\n",
        "y_pred = regressor.predict(X_test)\n",
        "\n",
        "# Calculate Mean Squared Error\n",
        "mse = mean_squared_error(y_test, y_pred)\n",
        "print(f\"Mean Squared Error (MSE): {mse:.4f}\")\n"
      ],
      "metadata": {
        "colab": {
          "base_uri": "https://localhost:8080/"
        },
        "id": "orsZappc8nBQ",
        "outputId": "33e41726-6b04-4d5e-cbac-4aa9fd54e39d"
      },
      "execution_count": 6,
      "outputs": [
        {
          "output_type": "stream",
          "name": "stdout",
          "text": [
            "Mean Squared Error (MSE): 0.4952\n"
          ]
        }
      ]
    },
    {
      "cell_type": "code",
      "source": [
        "#5. Write a Python program to train a Decision Tree Classifier and visualize the tree using graphviz.\n",
        "\n",
        "from sklearn.datasets import load_iris\n",
        "from sklearn.tree import DecisionTreeClassifier, export_graphviz\n",
        "from sklearn.model_selection import train_test_split\n",
        "import graphviz\n",
        "\n",
        "# Load Iris dataset\n",
        "iris = load_iris()\n",
        "X = iris.data\n",
        "y = iris.target\n",
        "feature_names = iris.feature_names\n",
        "class_names = iris.target_names\n",
        "\n",
        "# Split into training and test data\n",
        "X_train, X_test, y_train, y_test = train_test_split(X, y, test_size=0.2, random_state=42)\n",
        "\n",
        "# Train the Decision Tree Classifier\n",
        "clf = DecisionTreeClassifier(random_state=42)\n",
        "clf.fit(X_train, y_train)\n",
        "\n",
        "# Export the trained decision tree to DOT format\n",
        "dot_data = export_graphviz(clf,\n",
        "                           out_file=None,\n",
        "                           feature_names=feature_names,\n",
        "                           class_names=class_names,\n",
        "                           filled=True,\n",
        "                           rounded=True,\n",
        "                           special_characters=True)\n",
        "\n",
        "# Visualize the decision tree using graphviz\n",
        "graph = graphviz.Source(dot_data)\n",
        "graph.render(\"iris_tree\", format=\"png\", cleanup=False)  # Saves as 'iris_tree.png'\n",
        "graph.view()\n"
      ],
      "metadata": {
        "colab": {
          "base_uri": "https://localhost:8080/",
          "height": 36
        },
        "id": "kH9Y8zcY826s",
        "outputId": "7a2431ee-1124-45ba-a258-c5302fbb9129"
      },
      "execution_count": 7,
      "outputs": [
        {
          "output_type": "execute_result",
          "data": {
            "text/plain": [
              "'iris_tree.pdf'"
            ],
            "application/vnd.google.colaboratory.intrinsic+json": {
              "type": "string"
            }
          },
          "metadata": {},
          "execution_count": 7
        }
      ]
    },
    {
      "cell_type": "code",
      "source": [
        "#6. Write a Python program to train a Decision Tree Classifier with a maximum depth of 3 and compare its accuracy with a fully grown tree.\n",
        "\n",
        "\n",
        "from sklearn.datasets import load_iris\n",
        "from sklearn.model_selection import train_test_split\n",
        "from sklearn.tree import DecisionTreeClassifier\n",
        "from sklearn.metrics import accuracy_score\n",
        "\n",
        "# Load the Iris dataset\n",
        "iris = load_iris()\n",
        "X = iris.data\n",
        "y = iris.target\n",
        "\n",
        "# Split the dataset into training and test sets\n",
        "X_train, X_test, y_train, y_test = train_test_split(X, y, test_size=0.2, random_state=42)\n",
        "\n",
        "# Decision Tree with max depth of 3\n",
        "clf_limited = DecisionTreeClassifier(max_depth=3, random_state=42)\n",
        "clf_limited.fit(X_train, y_train)\n",
        "y_pred_limited = clf_limited.predict(X_test)\n",
        "accuracy_limited = accuracy_score(y_test, y_pred_limited)\n",
        "\n",
        "# Fully grown Decision Tree\n",
        "clf_full = DecisionTreeClassifier(random_state=42)  # No max_depth specified\n",
        "clf_full.fit(X_train, y_train)\n",
        "y_pred_full = clf_full.predict(X_test)\n",
        "accuracy_full = accuracy_score(y_test, y_pred_full)\n",
        "\n",
        "# Print the accuracies\n",
        "print(f\"Accuracy with max_depth=3: {accuracy_limited:.2f}\")\n",
        "print(f\"Accuracy with fully grown tree: {accuracy_full:.2f}\")\n"
      ],
      "metadata": {
        "colab": {
          "base_uri": "https://localhost:8080/"
        },
        "id": "vaQ4SKai9B_3",
        "outputId": "1276ad56-e773-48ad-c42b-35ab4cb2f831"
      },
      "execution_count": 8,
      "outputs": [
        {
          "output_type": "stream",
          "name": "stdout",
          "text": [
            "Accuracy with max_depth=3: 1.00\n",
            "Accuracy with fully grown tree: 1.00\n"
          ]
        }
      ]
    },
    {
      "cell_type": "code",
      "source": [
        "#7. Write a Python program to train a Decision Tree Classifier using min_samples_split=5 and compare its accuracy with a default tree.\n",
        "\n",
        "\n",
        "from sklearn.datasets import load_iris\n",
        "from sklearn.model_selection import train_test_split\n",
        "from sklearn.tree import DecisionTreeClassifier\n",
        "from sklearn.metrics import accuracy_score\n",
        "\n",
        "# Load the Iris dataset\n",
        "iris = load_iris()\n",
        "X = iris.data\n",
        "y = iris.target\n",
        "\n",
        "# Split the dataset into training and test sets\n",
        "X_train, X_test, y_train, y_test = train_test_split(X, y, test_size=0.2, random_state=42)\n",
        "\n",
        "# Decision Tree with min_samples_split = 5\n",
        "clf_custom = DecisionTreeClassifier(min_samples_split=5, random_state=42)\n",
        "clf_custom.fit(X_train, y_train)\n",
        "y_pred_custom = clf_custom.predict(X_test)\n",
        "accuracy_custom = accuracy_score(y_test, y_pred_custom)\n",
        "\n",
        "# Decision Tree with default parameters\n",
        "clf_default = DecisionTreeClassifier(random_state=42)\n",
        "clf_default.fit(X_train, y_train)\n",
        "y_pred_default = clf_default.predict(X_test)\n",
        "accuracy_default = accuracy_score(y_test, y_pred_default)\n",
        "\n",
        "# Print the accuracies\n",
        "print(f\"Accuracy with min_samples_split=5: {accuracy_custom:.2f}\")\n",
        "print(f\"Accuracy with default settings: {accuracy_default:.2f}\")\n"
      ],
      "metadata": {
        "colab": {
          "base_uri": "https://localhost:8080/"
        },
        "id": "u_XzmgYg9K2J",
        "outputId": "ae987ae8-28ab-409c-a8c1-eb84b4cac19e"
      },
      "execution_count": 9,
      "outputs": [
        {
          "output_type": "stream",
          "name": "stdout",
          "text": [
            "Accuracy with min_samples_split=5: 1.00\n",
            "Accuracy with default settings: 1.00\n"
          ]
        }
      ]
    },
    {
      "cell_type": "code",
      "source": [
        "#8.  Write a Python program to apply feature scaling before training a Decision Tree Classifier and compare its accuracy with unscaled data.\n",
        "\n",
        "\n",
        "from sklearn.datasets import load_iris\n",
        "from sklearn.model_selection import train_test_split\n",
        "from sklearn.tree import DecisionTreeClassifier\n",
        "from sklearn.preprocessing import StandardScaler\n",
        "from sklearn.metrics import accuracy_score\n",
        "\n",
        "# Load the Iris dataset\n",
        "iris = load_iris()\n",
        "X = iris.data\n",
        "y = iris.target\n",
        "\n",
        "# Split the dataset into training and test sets\n",
        "X_train_raw, X_test_raw, y_train, y_test = train_test_split(X, y, test_size=0.2, random_state=42)\n",
        "\n",
        "# ---- 1. Without Feature Scaling ----\n",
        "clf_unscaled = DecisionTreeClassifier(random_state=42)\n",
        "clf_unscaled.fit(X_train_raw, y_train)\n",
        "y_pred_unscaled = clf_unscaled.predict(X_test_raw)\n",
        "accuracy_unscaled = accuracy_score(y_test, y_pred_unscaled)\n",
        "\n",
        "# ---- 2. With Feature Scaling ----\n",
        "scaler = StandardScaler()\n",
        "X_train_scaled = scaler.fit_transform(X_train_raw)\n",
        "X_test_scaled = scaler.transform(X_test_raw)\n",
        "\n",
        "clf_scaled = DecisionTreeClassifier(random_state=42)\n",
        "clf_scaled.fit(X_train_scaled, y_train)\n",
        "y_pred_scaled = clf_scaled.predict(X_test_scaled)\n",
        "accuracy_scaled = accuracy_score(y_test, y_pred_scaled)\n",
        "\n",
        "# ---- Print Accuracies ----\n",
        "print(f\"Accuracy without feature scaling: {accuracy_unscaled:.2f}\")\n",
        "print(f\"Accuracy with feature scaling: {accuracy_scaled:.2f}\")\n"
      ],
      "metadata": {
        "colab": {
          "base_uri": "https://localhost:8080/"
        },
        "id": "AGKhhUj39WaK",
        "outputId": "7fd9d934-a58e-4914-c24e-633ba7f115fa"
      },
      "execution_count": 10,
      "outputs": [
        {
          "output_type": "stream",
          "name": "stdout",
          "text": [
            "Accuracy without feature scaling: 1.00\n",
            "Accuracy with feature scaling: 1.00\n"
          ]
        }
      ]
    },
    {
      "cell_type": "code",
      "source": [
        "#9. Write a Python program to train a Decision Tree Classifier using One-vs-Rest (OvR) strategy for multiclass classification.\n",
        "\n",
        "\n",
        "from sklearn.datasets import load_iris\n",
        "from sklearn.model_selection import train_test_split\n",
        "from sklearn.tree import DecisionTreeClassifier\n",
        "from sklearn.multiclass import OneVsRestClassifier\n",
        "from sklearn.metrics import accuracy_score\n",
        "\n",
        "# Load the Iris dataset\n",
        "iris = load_iris()\n",
        "X = iris.data\n",
        "y = iris.target\n",
        "\n",
        "# Split into train and test sets\n",
        "X_train, X_test, y_train, y_test = train_test_split(X, y, test_size=0.2, random_state=42)\n",
        "\n",
        "# Create a base Decision Tree Classifier\n",
        "base_clf = DecisionTreeClassifier(random_state=42)\n",
        "\n",
        "# Wrap it with One-vs-Rest strategy\n",
        "ovr_clf = OneVsRestClassifier(base_clf)\n",
        "\n",
        "# Train the OvR classifier\n",
        "ovr_clf.fit(X_train, y_train)\n",
        "\n",
        "# Predict on test data\n",
        "y_pred = ovr_clf.predict(X_test)\n",
        "\n",
        "# Evaluate accuracy\n",
        "accuracy = accuracy_score(y_test, y_pred)\n",
        "print(f\"Accuracy using One-vs-Rest strategy: {accuracy:.2f}\")\n"
      ],
      "metadata": {
        "colab": {
          "base_uri": "https://localhost:8080/"
        },
        "id": "NFtbmgT99i56",
        "outputId": "2ea439d0-05ed-42a0-cb6b-ed91d5e87f7c"
      },
      "execution_count": 11,
      "outputs": [
        {
          "output_type": "stream",
          "name": "stdout",
          "text": [
            "Accuracy using One-vs-Rest strategy: 1.00\n"
          ]
        }
      ]
    },
    {
      "cell_type": "code",
      "source": [
        "#10. Write a Python program to train a Decision Tree Classifier and display the feature importance scores.\n",
        "\n",
        "from sklearn.datasets import load_iris\n",
        "from sklearn.tree import DecisionTreeClassifier\n",
        "from sklearn.model_selection import train_test_split\n",
        "\n",
        "# Load the Iris dataset\n",
        "iris = load_iris()\n",
        "X = iris.data\n",
        "y = iris.target\n",
        "feature_names = iris.feature_names\n",
        "\n",
        "# Split dataset into training and test sets\n",
        "X_train, X_test, y_train, y_test = train_test_split(X, y, test_size=0.2, random_state=42)\n",
        "\n",
        "# Train a Decision Tree Classifier\n",
        "clf = DecisionTreeClassifier(random_state=42)\n",
        "clf.fit(X_train, y_train)\n",
        "\n",
        "# Get and print feature importance scores\n",
        "importances = clf.feature_importances_\n",
        "\n",
        "print(\"Feature Importance Scores:\")\n",
        "for name, score in zip(feature_names, importances):\n",
        "    print(f\"{name}: {score:.4f}\")\n"
      ],
      "metadata": {
        "colab": {
          "base_uri": "https://localhost:8080/"
        },
        "id": "LIYABx8t92iN",
        "outputId": "cf76a888-6ff0-458e-98ed-6f3b86a8a773"
      },
      "execution_count": 12,
      "outputs": [
        {
          "output_type": "stream",
          "name": "stdout",
          "text": [
            "Feature Importance Scores:\n",
            "sepal length (cm): 0.0000\n",
            "sepal width (cm): 0.0167\n",
            "petal length (cm): 0.9061\n",
            "petal width (cm): 0.0772\n"
          ]
        }
      ]
    },
    {
      "cell_type": "code",
      "source": [
        "#11. Write a Python program to train a Decision Tree Regressor with max_depth=5 and compare its performance with an unrestricted tree.\n",
        "\n",
        "\n",
        "from sklearn.datasets import fetch_california_housing\n",
        "from sklearn.model_selection import train_test_split\n",
        "from sklearn.tree import DecisionTreeRegressor\n",
        "from sklearn.metrics import mean_squared_error\n",
        "\n",
        "# Load California Housing dataset\n",
        "housing = fetch_california_housing()\n",
        "X = housing.data\n",
        "y = housing.target\n",
        "\n",
        "# Split dataset into train and test sets\n",
        "X_train, X_test, y_train, y_test = train_test_split(X, y, test_size=0.2, random_state=42)\n",
        "\n",
        "# Train Decision Tree Regressor with max_depth=5\n",
        "regressor_limited = DecisionTreeRegressor(max_depth=5, random_state=42)\n",
        "regressor_limited.fit(X_train, y_train)\n",
        "y_pred_limited = regressor_limited.predict(X_test)\n",
        "mse_limited = mean_squared_error(y_test, y_pred_limited)\n",
        "\n",
        "# Train unrestricted Decision Tree Regressor\n",
        "regressor_full = DecisionTreeRegressor(random_state=42)\n",
        "regressor_full.fit(X_train, y_train)\n",
        "y_pred_full = regressor_full.predict(X_test)\n",
        "mse_full = mean_squared_error(y_test, y_pred_full)\n",
        "\n",
        "# Print Mean Squared Errors\n",
        "print(f\"MSE with max_depth=5: {mse_limited:.4f}\")\n",
        "print(f\"MSE with unrestricted tree: {mse_full:.4f}\")\n"
      ],
      "metadata": {
        "colab": {
          "base_uri": "https://localhost:8080/"
        },
        "id": "eTycRh-M9_RL",
        "outputId": "e2afd027-cdea-4145-d558-89412b5dcedf"
      },
      "execution_count": 13,
      "outputs": [
        {
          "output_type": "stream",
          "name": "stdout",
          "text": [
            "MSE with max_depth=5: 0.5245\n",
            "MSE with unrestricted tree: 0.4952\n"
          ]
        }
      ]
    },
    {
      "cell_type": "code",
      "source": [
        "#12. Write a Python program to train a Decision Tree Classifier, apply Cost Complexity Pruning (CCP), and visualize its effect on accuracy\n",
        "\n",
        "\n",
        "import matplotlib.pyplot as plt\n",
        "from sklearn.datasets import load_iris\n",
        "from sklearn.tree import DecisionTreeClassifier\n",
        "from sklearn.model_selection import train_test_split\n",
        "from sklearn.metrics import accuracy_score\n",
        "\n",
        "# Load Iris dataset\n",
        "iris = load_iris()\n",
        "X, y = iris.data, iris.target\n",
        "\n",
        "# Split into train and test sets\n",
        "X_train, X_test, y_train, y_test = train_test_split(X, y, test_size=0.2, random_state=42)\n",
        "\n",
        "# Train a decision tree to get effective alphas for pruning\n",
        "clf = DecisionTreeClassifier(random_state=42)\n",
        "clf.fit(X_train, y_train)\n",
        "\n",
        "# Get effective alphas and corresponding total leaf impurities\n",
        "path = clf.cost_complexity_pruning_path(X_train, y_train)\n",
        "ccp_alphas, impurities = path.ccp_alphas, path.impurities\n",
        "\n",
        "# Lists to store accuracy for each alpha\n",
        "train_acc = []\n",
        "test_acc = []\n",
        "\n",
        "# Train trees for each alpha and evaluate\n",
        "for ccp_alpha in ccp_alphas:\n",
        "    clf_pruned = DecisionTreeClassifier(random_state=42, ccp_alpha=ccp_alpha)\n",
        "    clf_pruned.fit(X_train, y_train)\n",
        "\n",
        "    y_train_pred = clf_pruned.predict(X_train)\n",
        "    y_test_pred = clf_pruned.predict(X_test)\n",
        "\n",
        "    train_acc.append(accuracy_score(y_train, y_train_pred))\n",
        "    test_acc.append(accuracy_score(y_test, y_test_pred))\n",
        "\n",
        "# Plot accuracy vs alpha\n",
        "plt.figure(figsize=(8,5))\n",
        "plt.plot(ccp_alphas, train_acc, marker='o', label='Train Accuracy')\n",
        "plt.plot(ccp_alphas, test_acc, marker='o', label='Test Accuracy')\n",
        "plt.xlabel('ccp_alpha (Pruning Parameter)')\n",
        "plt.ylabel('Accuracy')\n",
        "plt.title('Effect of Cost Complexity Pruning on Accuracy')\n",
        "plt.legend()\n",
        "plt.grid(True)\n",
        "plt.show()\n"
      ],
      "metadata": {
        "colab": {
          "base_uri": "https://localhost:8080/",
          "height": 487
        },
        "id": "LIWMnPpg-Ijg",
        "outputId": "dd1c8de7-9ea7-42a8-e3bd-3d72a7f0e385"
      },
      "execution_count": 14,
      "outputs": [
        {
          "output_type": "display_data",
          "data": {
            "text/plain": [
              "<Figure size 800x500 with 1 Axes>"
            ],
            "image/png": "[encoded data removed]"
          },
          "metadata": {}
        }
      ]
    },
    {
      "cell_type": "code",
      "source": [
        "#13. Write a Python program to train a Decision Tree Classifier and evaluate its performance using Precision, Recall, and F1-Score.\n",
        "\n",
        "\n",
        "from sklearn.datasets import load_iris\n",
        "from sklearn.model_selection import train_test_split\n",
        "from sklearn.tree import DecisionTreeClassifier\n",
        "from sklearn.metrics import classification_report\n",
        "\n",
        "# Load the Iris dataset\n",
        "iris = load_iris()\n",
        "X = iris.data\n",
        "y = iris.target\n",
        "\n",
        "# Split dataset into training and test sets\n",
        "X_train, X_test, y_train, y_test = train_test_split(X, y, test_size=0.2, random_state=42)\n",
        "\n",
        "# Train Decision Tree Classifier\n",
        "clf = DecisionTreeClassifier(random_state=42)\n",
        "clf.fit(X_train, y_train)\n",
        "\n",
        "# Predict on test set\n",
        "y_pred = clf.predict(X_test)\n",
        "\n",
        "# Evaluate performance using precision, recall, and F1-score\n",
        "report = classification_report(y_test, y_pred, target_names=iris.target_names)\n",
        "print(\"Classification Report:\\n\")\n",
        "print(report)\n"
      ],
      "metadata": {
        "colab": {
          "base_uri": "https://localhost:8080/"
        },
        "id": "ibQ2lP7A-RE7",
        "outputId": "d699e69a-d2b4-4e1f-930c-eabd70bec0a1"
      },
      "execution_count": 15,
      "outputs": [
        {
          "output_type": "stream",
          "name": "stdout",
          "text": [
            "Classification Report:\n",
            "\n",
            "              precision    recall  f1-score   support\n",
            "\n",
            "      setosa       1.00      1.00      1.00        10\n",
            "  versicolor       1.00      1.00      1.00         9\n",
            "   virginica       1.00      1.00      1.00        11\n",
            "\n",
            "    accuracy                           1.00        30\n",
            "   macro avg       1.00      1.00      1.00        30\n",
            "weighted avg       1.00      1.00      1.00        30\n",
            "\n"
          ]
        }
      ]
    },
    {
      "cell_type": "code",
      "source": [
        "#14. Write a Python program to train a Decision Tree Classifier and visualize the confusion matrix using seaborn.\n",
        "\n",
        "import seaborn as sns\n",
        "import matplotlib.pyplot as plt\n",
        "from sklearn.datasets import load_iris\n",
        "from sklearn.model_selection import train_test_split\n",
        "from sklearn.tree import DecisionTreeClassifier\n",
        "from sklearn.metrics import confusion_matrix\n",
        "\n",
        "# Load Iris dataset\n",
        "iris = load_iris()\n",
        "X = iris.data\n",
        "y = iris.target\n",
        "class_names = iris.target_names\n",
        "\n",
        "# Split into train and test sets\n",
        "X_train, X_test, y_train, y_test = train_test_split(X, y, test_size=0.2, random_state=42)\n",
        "\n",
        "# Train Decision Tree Classifier\n",
        "clf = DecisionTreeClassifier(random_state=42)\n",
        "clf.fit(X_train, y_train)\n",
        "\n",
        "# Predict on test set\n",
        "y_pred = clf.predict(X_test)\n",
        "\n",
        "# Compute confusion matrix\n",
        "cm = confusion_matrix(y_test, y_pred)\n",
        "\n",
        "# Plot confusion matrix using seaborn heatmap\n",
        "plt.figure(figsize=(7,5))\n",
        "sns.heatmap(cm, annot=True, fmt='d', cmap='Blues',\n",
        "            xticklabels=class_names, yticklabels=class_names)\n",
        "plt.xlabel('Predicted Label')\n",
        "plt.ylabel('True Label')\n",
        "plt.title('Confusion Matrix')\n",
        "plt.show()\n"
      ],
      "metadata": {
        "colab": {
          "base_uri": "https://localhost:8080/",
          "height": 487
        },
        "id": "-DqZSKh9-e5x",
        "outputId": "80d0af48-834a-4982-f086-704ae1d5168d"
      },
      "execution_count": 16,
      "outputs": [
        {
          "output_type": "display_data",
          "data": {
            "text/plain": [
              "<Figure size 700x500 with 2 Axes>"
            ],
            "image/png": "[encoded data removed]"
          },
          "metadata": {}
        }
      ]
    },
    {
      "cell_type": "code",
      "source": [
        "#15. Write a Python program to train a Decision Tree Classifier and use GridSearchCV to find the optimal values for max_depth and min_samples_split.\n",
        "\n",
        "from sklearn.datasets import load_iris\n",
        "from sklearn.model_selection import train_test_split, GridSearchCV\n",
        "from sklearn.tree import DecisionTreeClassifier\n",
        "from sklearn.metrics import accuracy_score\n",
        "\n",
        "# Load Iris dataset\n",
        "iris = load_iris()\n",
        "X = iris.data\n",
        "y = iris.target\n",
        "\n",
        "# Split into train and test sets\n",
        "X_train, X_test, y_train, y_test = train_test_split(X, y, test_size=0.2, random_state=42)\n",
        "\n",
        "# Initialize the Decision Tree Classifier\n",
        "clf = DecisionTreeClassifier(random_state=42)\n",
        "\n",
        "# Define parameter grid for GridSearchCV\n",
        "param_grid = {\n",
        "    'max_depth': [2, 3, 4, 5, 6, None],\n",
        "    'min_samples_split': [2, 5, 10, 15]\n",
        "}\n",
        "\n",
        "# Initialize GridSearchCV\n",
        "grid_search = GridSearchCV(estimator=clf, param_grid=param_grid, cv=5, n_jobs=-1, scoring='accuracy')\n",
        "\n",
        "# Fit GridSearchCV\n",
        "grid_search.fit(X_train, y_train)\n",
        "\n",
        "# Best parameters found\n",
        "print(\"Best Parameters:\", grid_search.best_params_)\n",
        "\n",
        "# Evaluate the best estimator on test data\n",
        "best_clf = grid_search.best_estimator_\n",
        "y_pred = best_clf.predict(X_test)\n",
        "accuracy = accuracy_score(y_test, y_pred)\n",
        "print(f\"Test Accuracy with best parameters: {accuracy:.2f}\")\n"
      ],
      "metadata": {
        "colab": {
          "base_uri": "https://localhost:8080/"
        },
        "id": "lQ1PLxFV-vBV",
        "outputId": "6b413398-ab7a-4cb9-cbf9-eab6565ecec8"
      },
      "execution_count": 17,
      "outputs": [
        {
          "output_type": "stream",
          "name": "stdout",
          "text": [
            "Best Parameters: {'max_depth': 4, 'min_samples_split': 2}\n",
            "Test Accuracy with best parameters: 1.00\n"
          ]
        }
      ]
    },
    {
      "cell_type": "code",
      "source": [],
      "metadata": {
        "id": "suKvCehm-2V_"
      },
      "execution_count": null,
      "outputs": []
    }
  ]
}